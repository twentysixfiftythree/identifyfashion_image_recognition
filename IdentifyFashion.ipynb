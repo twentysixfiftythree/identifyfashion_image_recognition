{
  "nbformat": 4,
  "nbformat_minor": 0,
  "metadata": {
    "colab": {
      "provenance": [],
      "mount_file_id": "1nPtRjDTWm9hyObegyNlxo8evtNpXy4cu",
      "authorship_tag": "ABX9TyPGO79EWHYst2qHyzHo0l3U"
    },
    "kernelspec": {
      "name": "python3",
      "display_name": "Python 3"
    },
    "language_info": {
      "name": "python"
    }
  },
  "cells": [
    {
      "cell_type": "markdown",
      "source": [
        "# Using a CNN to Identify Fashion\n"
      ],
      "metadata": {
        "id": "s9EAv_AHvbNT"
      }
    },
    {
      "cell_type": "code",
      "source": [
        "! unzip /content/drive/MyDrive/archive\\(2\\).zip"
      ],
      "metadata": {
        "id": "unqRnmKb0FqJ"
      },
      "execution_count": 2,
      "outputs": []
    },
    {
      "cell_type": "markdown",
      "source": [
        "## Dataset Exploration and Label Distribution Analysis"
      ],
      "metadata": {
        "id": "wi_yreQ_58VX"
      }
    },
    {
      "cell_type": "code",
      "source": [
        "import imageio\n",
        "import os\n",
        "import glob\n",
        "from collections import Counter\n",
        "import random\n",
        "myseed = 12345  # set a random seed for reproducibility\n",
        "\n",
        "from google.colab.patches import cv2_imshow\n",
        "\n",
        "base_path = './myntradataset/images/'\n",
        "\n",
        "# let's take a look at one random image\n",
        "\n",
        "random_pic_path = random.choice(os.listdir(os.path.join(base_path, )))\n",
        "pic = imageio.imread(os.path.join(base_path, random_pic_path))\n",
        "cv2_imshow(pic)\n",
        "height, width, channels = pic.shape\n",
        "print(f'Original height, width, and channels of each image: {height} {width} {channels}')\n",
        "\n",
        "\n"
      ],
      "metadata": {
        "colab": {
          "base_uri": "https://localhost:8080/",
          "height": 171
        },
        "id": "2ebe-UwR2ggP",
        "outputId": "1b8edcd0-b87f-4db8-cd0b-4559b4c3298b"
      },
      "execution_count": 30,
      "outputs": [
        {
          "output_type": "stream",
          "name": "stderr",
          "text": [
            "<ipython-input-30-754dc42acd2b>:15: DeprecationWarning: Starting with ImageIO v3 the behavior of this function will switch to that of iio.v3.imread. To keep the current behavior (and make this warning disappear) use `import imageio.v2 as imageio` or call `imageio.v2.imread` directly.\n",
            "  pic = imageio.imread(os.path.join(base_path, random_pic_path))\n"
          ]
        },
        {
          "output_type": "display_data",
          "data": {
            "text/plain": [
              "<PIL.Image.Image image mode=RGB size=60x80>"
            ],
            "image/png": "[encoded data removed]"
          },
          "metadata": {}
        },
        {
          "output_type": "stream",
          "name": "stdout",
          "text": [
            "Original height, width, and channels of each image: 80 60 3\n"
          ]
        }
      ]
    },
    {
      "cell_type": "markdown",
      "source": [
        "## Setup Libaries and GPU"
      ],
      "metadata": {
        "id": "IwtBBv_XCOz2"
      }
    },
    {
      "cell_type": "code",
      "source": [
        "import numpy as np\n",
        "import pandas as pd\n",
        "import torch\n",
        "import os\n",
        "import torch.nn as nn\n",
        "import torchvision.transforms as transforms\n",
        "from PIL import Image\n",
        "from torch.utils.data import ConcatDataset, DataLoader, Subset, Dataset\n",
        "from torchvision.datasets import DatasetFolder, VisionDataset\n",
        "\n",
        "from tqdm.auto import tqdm\n",
        "import random"
      ],
      "metadata": {
        "id": "1EI3KZr77UpS"
      },
      "execution_count": 31,
      "outputs": []
    },
    {
      "cell_type": "code",
      "source": [
        "# basic setup for PyTorch\n",
        "torch.backends.cudnn.deterministic = True\n",
        "torch.backends.cudnn.benchmark = False\n",
        "np.random.seed(myseed)\n",
        "torch.manual_seed(myseed)\n",
        "if torch.cuda.is_available():\n",
        "    torch.cuda.manual_seed_all(myseed)"
      ],
      "metadata": {
        "id": "evNUnygQCVYC"
      },
      "execution_count": 32,
      "outputs": []
    },
    {
      "cell_type": "code",
      "source": [
        "from torchvision import transforms\n",
        "\n",
        "train_transforms = transforms.Compose([\n",
        "    transforms.Resize((80, 60)),  # all images are 80 x 60 anyways\n",
        "    transforms.Lambda(lambda x: x.convert('RGB')),  # Convert image to RGB\n",
        "    transforms.ToTensor(),  # Convert the image to a tensor\n",
        "])\n",
        "# they're the same, but will be adjusted eventually for data augmentation\n",
        "test_transforms = transforms.Compose([\n",
        "    transforms.Resize((80, 60)),  # all images are 80 x 60 anyways\n",
        "    transforms.Lambda(lambda x: x.convert('RGB')),  # Convert image to RGB\n",
        "    transforms.ToTensor(),  # Convert the image to a tensor\n",
        "])"
      ],
      "metadata": {
        "id": "audLTRjBCaIx"
      },
      "execution_count": 57,
      "outputs": []
    },
    {
      "cell_type": "markdown",
      "source": [
        "## Dataset Class for DataLoader"
      ],
      "metadata": {
        "id": "jVkDOJUsDo-s"
      }
    },
    {
      "cell_type": "code",
      "source": [
        "class FashionDataset(Dataset):\n",
        "    def __init__(self, csv_path, images_path, tfm=None):\n",
        "        \"\"\"\n",
        "        csv_path: Path to the train.csv or test.csv file.\n",
        "        images_path: Base path where the images are stored.\n",
        "        tfm: Transforms to be applied on the images.\n",
        "        \"\"\"\n",
        "        self.data = pd.read_csv(csv_path, sep='\\t')\n",
        "        self.images_path = images_path\n",
        "        self.transform = tfm\n",
        "\n",
        "        # Creating a dictionary to convert label names to integers\n",
        "        self.label_dict = {label: idx for idx, label in enumerate(self.data['label'].unique())}\n",
        "\n",
        "    def __len__(self):\n",
        "        return len(self.data)\n",
        "\n",
        "    def __getitem__(self, idx):\n",
        "        img_name = str(self.data.iloc[idx, 0])  #first column is id\n",
        "        label_name = self.data.iloc[idx, 1]  # second column is the label\n",
        "        img_path = os.path.join(self.images_path, img_name + \".jpg\")\n",
        "\n",
        "        image = Image.open(img_path)\n",
        "\n",
        "        # Ensure all images are in RGB\n",
        "        image = image.convert('RGB')\n",
        "\n",
        "        if self.transform:\n",
        "            image = self.transform(image)\n",
        "\n",
        "        label = self.label_dict[label_name]\n",
        "\n",
        "        return image, label"
      ],
      "metadata": {
        "id": "EHcJFZH0Chn7"
      },
      "execution_count": 45,
      "outputs": []
    },
    {
      "cell_type": "markdown",
      "source": [
        "## Convolutional Neural Net Setup"
      ],
      "metadata": {
        "id": "eFvqii_DDXR4"
      }
    },
    {
      "cell_type": "code",
      "source": [
        "# Initialize the dataset\n",
        "train_dataset = FashionDataset(\n",
        "    csv_path='/content/drive/MyDrive/CNN Fashion data/train.csv',\n",
        "    images_path='/content/images',\n",
        "    tfm=train_transforms\n",
        ")"
      ],
      "metadata": {
        "id": "fdqxKJwnDrPC"
      },
      "execution_count": 52,
      "outputs": []
    },
    {
      "cell_type": "code",
      "source": [
        "import torch.nn as nn\n",
        "import torch.nn.functional as F\n",
        "\n",
        "class AdjustedCNN(nn.Module):\n",
        "    def __init__(self):\n",
        "        super(AdjustedCNN, self).__init__()\n",
        "        self.conv1 = nn.Conv2d(3, 32, kernel_size=3, padding=1) # output: 80x60\n",
        "        self.conv2 = nn.Conv2d(32, 64, kernel_size=3, padding=1) # output: 40x30\n",
        "        # after two pooling layers, the size will be 20x15 (80 -> 40 -> 20, 60 -> 30 -> 15)\n",
        "        self.fc1 = nn.Linear(64 * 20 * 15, 128)\n",
        "        self.fc2 = nn.Linear(128, 13) # 13 classes\n",
        "\n",
        "    def forward(self, x):\n",
        "        x = F.max_pool2d(F.relu(self.conv1(x)), 2) # pooling halves the dimensions: 80x60 -> 40x30\n",
        "        x = F.max_pool2d(F.relu(self.conv2(x)), 2) # again halving: 40x30 -> 20x15\n",
        "        x = x.view(-1, 64 * 20 * 15) # flatten the output for the fully connected layer\n",
        "        x = F.relu(self.fc1(x))\n",
        "        x = self.fc2(x)\n",
        "        return x\n"
      ],
      "metadata": {
        "id": "0vgwjsBXBC3_"
      },
      "execution_count": 48,
      "outputs": []
    },
    {
      "cell_type": "code",
      "source": [
        "import torch.optim as optim\n",
        "\n",
        "model = AdjustedCNN()\n",
        "criterion = nn.CrossEntropyLoss()\n",
        "optimizer = optim.Adam(model.parameters(), lr=0.001)"
      ],
      "metadata": {
        "id": "9QMBdYvNBgxc"
      },
      "execution_count": 49,
      "outputs": []
    },
    {
      "cell_type": "code",
      "source": [
        "from torch.utils.data import DataLoader\n",
        "import torch\n",
        "\n",
        "train_loader = DataLoader(train_dataset, batch_size=64, shuffle=True)\n",
        "\n",
        "# Device configuration\n",
        "device = torch.device('cuda' if torch.cuda.is_available() else 'cpu')\n",
        "model.to(device)\n",
        "\n",
        "# Training loop\n",
        "num_epochs = 10\n",
        "for epoch in range(num_epochs):\n",
        "    for images, labels in train_loader:\n",
        "        images, labels = images.to(device), labels.to(device)\n",
        "\n",
        "        # Forward pass\n",
        "        outputs = model(images)\n",
        "        loss = criterion(outputs, labels)\n",
        "\n",
        "        optimizer.zero_grad()\n",
        "        loss.backward()\n",
        "        optimizer.step()\n",
        "\n",
        "    print(f'Epoch [{epoch+1}/{num_epochs}], Loss: {loss.item():.4f}')"
      ],
      "metadata": {
        "colab": {
          "base_uri": "https://localhost:8080/"
        },
        "id": "SVxLhifQjJYs",
        "outputId": "abc48cb9-2a8f-443f-9c0d-8290935799b8"
      },
      "execution_count": 58,
      "outputs": [
        {
          "output_type": "stream",
          "name": "stdout",
          "text": [
            "Epoch [1/10], Loss: 0.5106\n",
            "Epoch [2/10], Loss: 0.7534\n",
            "Epoch [3/10], Loss: 0.2266\n",
            "Epoch [4/10], Loss: 0.2449\n",
            "Epoch [5/10], Loss: 0.2307\n",
            "Epoch [6/10], Loss: 0.0577\n",
            "Epoch [7/10], Loss: 0.0336\n",
            "Epoch [8/10], Loss: 0.0625\n",
            "Epoch [9/10], Loss: 0.0120\n",
            "Epoch [10/10], Loss: 0.0134\n"
          ]
        }
      ]
    },
    {
      "cell_type": "code",
      "source": [
        "test_dataset = FashionDataset(\n",
        "    csv_path='/content/drive/MyDrive/CNN Fashion data/test.csv',\n",
        "    images_path='/content/images',\n",
        "    tfm=test_transforms\n",
        "\n",
        ")\n",
        "label_dict = test_dataset.label_dict"
      ],
      "metadata": {
        "id": "kDJ2fcRYjmgR"
      },
      "execution_count": 79,
      "outputs": []
    },
    {
      "cell_type": "code",
      "source": [
        "test_loader = DataLoader(test_dataset, batch_size=64, shuffle=True)"
      ],
      "metadata": {
        "id": "QbAm07ki2qqG"
      },
      "execution_count": 66,
      "outputs": []
    },
    {
      "cell_type": "code",
      "source": [
        "\n",
        "with torch.no_grad():\n",
        "    model.eval()\n",
        "\n",
        "    correct = 0\n",
        "    total = 0\n",
        "    for images, labels in test_loader:\n",
        "        images, labels = images.to(device), labels.to(device)\n",
        "\n",
        "        outputs = model(images)\n",
        "        _, predicted = torch.max(outputs.data, 1)\n",
        "\n",
        "        total += labels.size(0)\n",
        "        correct += (predicted == labels).sum().item()\n",
        "\n",
        "    print(f'Accuracy of the model on the test images: {100 * correct / total}%')"
      ],
      "metadata": {
        "colab": {
          "base_uri": "https://localhost:8080/"
        },
        "id": "Sk2Oxlyp2u1W",
        "outputId": "91aea3a5-0e3e-48dd-b526-74e4e4b226cc"
      },
      "execution_count": 74,
      "outputs": [
        {
          "output_type": "stream",
          "name": "stdout",
          "text": [
            "Accuracy of the model on the test images: 99.95%\n"
          ]
        }
      ]
    },
    {
      "cell_type": "markdown",
      "source": [
        "## Testing on random individual images"
      ],
      "metadata": {
        "id": "pUjzZaghAo36"
      }
    },
    {
      "cell_type": "code",
      "source": [
        "from torchvision import transforms\n",
        "from PIL import Image\n",
        "import torch\n",
        "import os\n",
        "\n",
        "# if you want to test on an 80x60 image, put it in here\n",
        "image_base_path = '/content/images'\n",
        "image_file_name = '33262.jpg'\n",
        "image_path = os.path.join(image_base_path, image_file_name)"
      ],
      "metadata": {
        "id": "ZG-NoHBE_DyE"
      },
      "execution_count": 85,
      "outputs": []
    },
    {
      "cell_type": "code",
      "source": [
        "\n",
        "image = Image.open(image_path).convert('RGB')\n",
        "\n",
        "\n",
        "transformed_image = test_transforms(image)\n",
        "\n",
        "# Add a batch dimension\n",
        "transformed_image = transformed_image.unsqueeze(0)\n",
        "\n",
        "device = torch.device('cuda' if torch.cuda.is_available() else 'cpu')\n",
        "transformed_image = transformed_image.to(device)\n",
        "model = model.to(device)\n",
        "\n",
        "\n",
        "model.eval()\n",
        "with torch.no_grad():\n",
        "    outputs = model(transformed_image)\n",
        "    _, predicted = torch.max(outputs, 1)\n",
        "    predicted_index = predicted.item()\n",
        "\n",
        "\n",
        "idx_to_label = {v: k for k, v in label_dict.items()}\n",
        "\n",
        "\n",
        "predicted_label = idx_to_label[predicted_index]\n",
        "\n",
        "print(f'The model predicts: {predicted_label}')"
      ],
      "metadata": {
        "colab": {
          "base_uri": "https://localhost:8080/"
        },
        "id": "9bc8-r4g_deQ",
        "outputId": "be61a6a4-dec4-4000-ee69-d4b7fa7fd5a7"
      },
      "execution_count": 86,
      "outputs": [
        {
          "output_type": "stream",
          "name": "stdout",
          "text": [
            "The model predicts: Topwear\n"
          ]
        }
      ]
    }
  ]
}
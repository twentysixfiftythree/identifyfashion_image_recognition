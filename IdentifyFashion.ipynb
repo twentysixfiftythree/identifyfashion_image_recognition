{
  "nbformat": 4,
  "nbformat_minor": 0,
  "metadata": {
    "colab": {
      "provenance": [],
      "authorship_tag": "ABX9TyNaAIBY7mpmwa+0T5Mll6ev"
    },
    "kernelspec": {
      "name": "python3",
      "display_name": "Python 3"
    },
    "language_info": {
      "name": "python"
    }
  },
  "cells": [
    {
      "cell_type": "markdown",
      "source": [
        "# Using a CNN to Identify Fashion\n"
      ],
      "metadata": {
        "id": "s9EAv_AHvbNT"
      }
    },
    {
      "cell_type": "code",
      "source": [
        "! unzip archive\\(2\\).zip"
      ],
      "metadata": {
        "id": "unqRnmKb0FqJ"
      },
      "execution_count": null,
      "outputs": []
    },
    {
      "cell_type": "code",
      "source": [
        "import imageio\n",
        "import os\n",
        "import glob\n",
        "from collections import Counter\n",
        "import random\n",
        "myseed = 12345  # set a random seed for reproducibility\n",
        "\n",
        "from google.colab.patches import cv2_imshow\n",
        "\n",
        "# Set the base path for your dataset\n",
        "base_path = './myntradataset/images/'\n",
        "\n",
        "# let's take a look at one random image\n",
        "# Assuming the structure inside 'images' folder is similar to 'food11', adjust if necessary\n",
        "random_pic_path = random.choice(os.listdir(os.path.join(base_path, )))\n",
        "pic = imageio.imread(os.path.join(base_path, random_pic_path))\n",
        "cv2_imshow(pic)\n",
        "height, width, channels = pic.shape\n",
        "print(f'Original height, width, and channels of each image: {height} {width} {channels}')\n",
        "\n",
        "\n",
        "\n",
        "#"
      ],
      "metadata": {
        "colab": {
          "base_uri": "https://localhost:8080/",
          "height": 169
        },
        "id": "2ebe-UwR2ggP",
        "outputId": "3580d5a2-e537-4d75-f0e9-7aec16f32d17"
      },
      "execution_count": 15,
      "outputs": [
        {
          "output_type": "stream",
          "name": "stderr",
          "text": [
            "<ipython-input-15-de36e70a77f6>:16: DeprecationWarning: Starting with ImageIO v3 the behavior of this function will switch to that of iio.v3.imread. To keep the current behavior (and make this warning disappear) use `import imageio.v2 as imageio` or call `imageio.v2.imread` directly.\n",
            "  pic = imageio.imread(os.path.join(base_path, random_pic_path))\n"
          ]
        },
        {
          "output_type": "display_data",
          "data": {
            "text/plain": [
              "<PIL.Image.Image image mode=RGB size=60x80>"
            ],
            "image/png": "[encoded data removed]"
          },
          "metadata": {}
        },
        {
          "output_type": "stream",
          "name": "stdout",
          "text": [
            "Original height, width, and channels of each image: 80 60 3\n"
          ]
        }
      ]
    },
    {
      "cell_type": "code",
      "source": [],
      "metadata": {
        "id": "EiJv3hSh3CD6"
      },
      "execution_count": null,
      "outputs": []
    }
  ]
}